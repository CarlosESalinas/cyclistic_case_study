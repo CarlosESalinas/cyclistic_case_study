{
 "cells": [
  {
   "cell_type": "code",
   "execution_count": null,
   "id": "8eb92efe",
   "metadata": {},
   "outputs": [],
   "source": [
    "# import libraries\n",
    "try:\n",
    "    from database import Database\n",
    "    from data_manager import DataAnalyzer\n",
    "    import matplotlib.pyplot as plt\n",
    "    import seaborn as sns\n",
    "except ImportError as e:\n",
    "    print(f\"Error importing libraries: {e}\")\n",
    "    raise"
   ]
  },
  {
   "cell_type": "code",
   "execution_count": 2,
   "id": "43ea7f5c",
   "metadata": {},
   "outputs": [
    {
     "name": "stdout",
     "output_type": "stream",
     "text": [
      "The connection to the database is established successfully.\n"
     ]
    }
   ],
   "source": [
    "# test connection to the database\n",
    "try:\n",
    "    db = Database()\n",
    "    db.connect()\n",
    "except Exception as e:\n",
    "    print(f\"Error connecting to the database: {e}\")\n",
    "    raise"
   ]
  },
  {
   "cell_type": "code",
   "execution_count": 3,
   "id": "f4d3d527",
   "metadata": {},
   "outputs": [],
   "source": [
    "# Create an instance of DataAnalyzer\n",
    "analyzer = DataAnalyzer(db)"
   ]
  },
  {
   "cell_type": "markdown",
   "id": "d72485d7",
   "metadata": {},
   "source": [
    "---"
   ]
  },
  {
   "cell_type": "markdown",
   "id": "c7cb7525",
   "metadata": {},
   "source": [
    "<h3 style=\"color: steelblue; text-align: center;\">\n",
    "    Trips Data for January 2024\n",
    "</h3>\n"
   ]
  },
  {
   "cell_type": "code",
   "execution_count": 4,
   "id": "ad5a94c8",
   "metadata": {},
   "outputs": [
    {
     "name": "stdout",
     "output_type": "stream",
     "text": [
      "The connection to the database is established successfully.\n"
     ]
    }
   ],
   "source": [
    "# Define the SQL query to fetch data for January 2024\n",
    "query =\"select * from MONTHLY_TRIPS.tripdata_202401;\"\n",
    "\n",
    "# get the data for January 2024\n",
    "df_202401 = analyzer.fetch_data(query)\n"
   ]
  },
  {
   "cell_type": "code",
   "execution_count": 6,
   "id": "a1eeec83",
   "metadata": {},
   "outputs": [
    {
     "data": {
      "text/html": [
       "<div>\n",
       "<style scoped>\n",
       "    .dataframe tbody tr th:only-of-type {\n",
       "        vertical-align: middle;\n",
       "    }\n",
       "\n",
       "    .dataframe tbody tr th {\n",
       "        vertical-align: top;\n",
       "    }\n",
       "\n",
       "    .dataframe thead th {\n",
       "        text-align: right;\n",
       "    }\n",
       "</style>\n",
       "<table border=\"1\" class=\"dataframe\">\n",
       "  <thead>\n",
       "    <tr style=\"text-align: right;\">\n",
       "      <th></th>\n",
       "      <th>ride_id</th>\n",
       "      <th>rideable_type</th>\n",
       "      <th>started_at</th>\n",
       "      <th>ended_at</th>\n",
       "      <th>start_station_name</th>\n",
       "      <th>start_station_id</th>\n",
       "      <th>end_station_name</th>\n",
       "      <th>end_station_id</th>\n",
       "      <th>start_lat</th>\n",
       "      <th>start_lng</th>\n",
       "      <th>end_lat</th>\n",
       "      <th>end_lng</th>\n",
       "      <th>member_casual</th>\n",
       "    </tr>\n",
       "  </thead>\n",
       "  <tbody>\n",
       "    <tr>\n",
       "      <th>0</th>\n",
       "      <td>C1D650626C8C899A</td>\n",
       "      <td>electric_bike</td>\n",
       "      <td>2024-01-12 15:30:27</td>\n",
       "      <td>2024-01-12 15:37:59</td>\n",
       "      <td>Wells St &amp; Elm St</td>\n",
       "      <td>KA1504000135</td>\n",
       "      <td>Kingsbury St &amp; Kinzie St</td>\n",
       "      <td>KA1503000043</td>\n",
       "      <td>41.903267384</td>\n",
       "      <td>-87.634736776</td>\n",
       "      <td>41.88917683258</td>\n",
       "      <td>-87.6385057718</td>\n",
       "      <td>member</td>\n",
       "    </tr>\n",
       "    <tr>\n",
       "      <th>1</th>\n",
       "      <td>EECD38BDB25BFCB0</td>\n",
       "      <td>electric_bike</td>\n",
       "      <td>2024-01-08 15:45:46</td>\n",
       "      <td>2024-01-08 15:52:59</td>\n",
       "      <td>Wells St &amp; Elm St</td>\n",
       "      <td>KA1504000135</td>\n",
       "      <td>Kingsbury St &amp; Kinzie St</td>\n",
       "      <td>KA1503000043</td>\n",
       "      <td>41.9029365</td>\n",
       "      <td>-87.63444016666666</td>\n",
       "      <td>41.88917683258</td>\n",
       "      <td>-87.6385057718</td>\n",
       "      <td>member</td>\n",
       "    </tr>\n",
       "    <tr>\n",
       "      <th>2</th>\n",
       "      <td>F4A9CE78061F17F7</td>\n",
       "      <td>electric_bike</td>\n",
       "      <td>2024-01-27 12:27:19</td>\n",
       "      <td>2024-01-27 12:35:19</td>\n",
       "      <td>Wells St &amp; Elm St</td>\n",
       "      <td>KA1504000135</td>\n",
       "      <td>Kingsbury St &amp; Kinzie St</td>\n",
       "      <td>KA1503000043</td>\n",
       "      <td>41.902951333333334</td>\n",
       "      <td>-87.63447033333334</td>\n",
       "      <td>41.88917683258</td>\n",
       "      <td>-87.6385057718</td>\n",
       "      <td>member</td>\n",
       "    </tr>\n",
       "    <tr>\n",
       "      <th>3</th>\n",
       "      <td>0A0D9E15EE50B171</td>\n",
       "      <td>classic_bike</td>\n",
       "      <td>2024-01-29 16:26:17</td>\n",
       "      <td>2024-01-29 16:56:06</td>\n",
       "      <td>Wells St &amp; Randolph St</td>\n",
       "      <td>TA1305000030</td>\n",
       "      <td>Larrabee St &amp; Webster Ave</td>\n",
       "      <td>13193</td>\n",
       "      <td>41.884295</td>\n",
       "      <td>-87.633963</td>\n",
       "      <td>41.921822</td>\n",
       "      <td>-87.64414</td>\n",
       "      <td>member</td>\n",
       "    </tr>\n",
       "    <tr>\n",
       "      <th>4</th>\n",
       "      <td>33FFC9805E3EFF9A</td>\n",
       "      <td>classic_bike</td>\n",
       "      <td>2024-01-31 05:43:23</td>\n",
       "      <td>2024-01-31 06:09:35</td>\n",
       "      <td>Lincoln Ave &amp; Waveland Ave</td>\n",
       "      <td>13253</td>\n",
       "      <td>Kingsbury St &amp; Kinzie St</td>\n",
       "      <td>KA1503000043</td>\n",
       "      <td>41.948797</td>\n",
       "      <td>-87.675278</td>\n",
       "      <td>41.88917683258</td>\n",
       "      <td>-87.6385057718</td>\n",
       "      <td>member</td>\n",
       "    </tr>\n",
       "  </tbody>\n",
       "</table>\n",
       "</div>"
      ],
      "text/plain": [
       "            ride_id  rideable_type          started_at            ended_at  \\\n",
       "0  C1D650626C8C899A  electric_bike 2024-01-12 15:30:27 2024-01-12 15:37:59   \n",
       "1  EECD38BDB25BFCB0  electric_bike 2024-01-08 15:45:46 2024-01-08 15:52:59   \n",
       "2  F4A9CE78061F17F7  electric_bike 2024-01-27 12:27:19 2024-01-27 12:35:19   \n",
       "3  0A0D9E15EE50B171   classic_bike 2024-01-29 16:26:17 2024-01-29 16:56:06   \n",
       "4  33FFC9805E3EFF9A   classic_bike 2024-01-31 05:43:23 2024-01-31 06:09:35   \n",
       "\n",
       "           start_station_name start_station_id           end_station_name  \\\n",
       "0           Wells St & Elm St     KA1504000135   Kingsbury St & Kinzie St   \n",
       "1           Wells St & Elm St     KA1504000135   Kingsbury St & Kinzie St   \n",
       "2           Wells St & Elm St     KA1504000135   Kingsbury St & Kinzie St   \n",
       "3      Wells St & Randolph St     TA1305000030  Larrabee St & Webster Ave   \n",
       "4  Lincoln Ave & Waveland Ave            13253   Kingsbury St & Kinzie St   \n",
       "\n",
       "  end_station_id           start_lat           start_lng         end_lat  \\\n",
       "0   KA1503000043        41.903267384       -87.634736776  41.88917683258   \n",
       "1   KA1503000043          41.9029365  -87.63444016666666  41.88917683258   \n",
       "2   KA1503000043  41.902951333333334  -87.63447033333334  41.88917683258   \n",
       "3          13193           41.884295          -87.633963       41.921822   \n",
       "4   KA1503000043           41.948797          -87.675278  41.88917683258   \n",
       "\n",
       "          end_lng member_casual  \n",
       "0  -87.6385057718        member  \n",
       "1  -87.6385057718        member  \n",
       "2  -87.6385057718        member  \n",
       "3       -87.64414        member  \n",
       "4  -87.6385057718        member  "
      ]
     },
     "execution_count": 6,
     "metadata": {},
     "output_type": "execute_result"
    }
   ],
   "source": [
    "# Display the first few rows of the DataFrame\n",
    "df_202401.head()"
   ]
  },
  {
   "cell_type": "code",
   "execution_count": null,
   "id": "9b7b0b2c",
   "metadata": {},
   "outputs": [
    {
     "name": "stdout",
     "output_type": "stream",
     "text": [
      "<class 'pandas.core.frame.DataFrame'>\n",
      "RangeIndex: 144873 entries, 0 to 144872\n",
      "Data columns (total 13 columns):\n",
      " #   Column              Non-Null Count   Dtype         \n",
      "---  ------              --------------   -----         \n",
      " 0   ride_id             144873 non-null  object        \n",
      " 1   rideable_type       144873 non-null  object        \n",
      " 2   started_at          144873 non-null  datetime64[ns]\n",
      " 3   ended_at            144873 non-null  datetime64[ns]\n",
      " 4   start_station_name  125708 non-null  object        \n",
      " 5   start_station_id    125708 non-null  object        \n",
      " 6   end_station_name    124124 non-null  object        \n",
      " 7   end_station_id      124124 non-null  object        \n",
      " 8   start_lat           144873 non-null  object        \n",
      " 9   start_lng           144873 non-null  object        \n",
      " 10  end_lat             144585 non-null  object        \n",
      " 11  end_lng             144585 non-null  object        \n",
      " 12  member_casual       144873 non-null  object        \n",
      "dtypes: datetime64[ns](2), object(11)\n",
      "memory usage: 14.4+ MB\n"
     ]
    }
   ],
   "source": [
    "# Display the DataFrame information\n",
    "df_202401.info()"
   ]
  },
  {
   "cell_type": "code",
   "execution_count": 7,
   "id": "62a9dd32",
   "metadata": {},
   "outputs": [
    {
     "name": "stdout",
     "output_type": "stream",
     "text": [
      "Null counts per column (descending order):\n",
      "end_station_name      20749\n",
      "end_station_id        20749\n",
      "start_station_id      19165\n",
      "start_station_name    19165\n",
      "end_lat                 288\n",
      "end_lng                 288\n",
      "started_at                0\n",
      "rideable_type             0\n",
      "ride_id                   0\n",
      "ended_at                  0\n",
      "start_lat                 0\n",
      "start_lng                 0\n",
      "member_casual             0\n",
      "dtype: int64\n",
      "\n",
      "Null percentage per column (descending order):\n",
      "end_station_name      14.32\n",
      "end_station_id        14.32\n",
      "start_station_id      13.23\n",
      "start_station_name    13.23\n",
      "end_lat                0.20\n",
      "end_lng                0.20\n",
      "started_at             0.00\n",
      "rideable_type          0.00\n",
      "ride_id                0.00\n",
      "ended_at               0.00\n",
      "start_lat              0.00\n",
      "start_lng              0.00\n",
      "member_casual          0.00\n",
      "dtype: float64\n",
      "\n",
      "Global null value analysis:\n",
      "- Total cells: 1,883,349\n",
      "- Total null values: 80,404\n",
      "- Global null percentage: 4.27%\n"
     ]
    }
   ],
   "source": [
    "# Analyze null values in the DataFrame\n",
    "analyzer.analyze_null_values(df_202401)"
   ]
  },
  {
   "cell_type": "markdown",
   "id": "f99c9e54",
   "metadata": {},
   "source": [
    "---"
   ]
  },
  {
   "cell_type": "markdown",
   "id": "48dc8996",
   "metadata": {},
   "source": [
    "<h3 style=\"color: steelblue; text-align: center;\">\n",
    "    Trips Data for Febrary 2024\n",
    "</h3>\n"
   ]
  },
  {
   "cell_type": "code",
   "execution_count": 5,
   "id": "f3a06f65",
   "metadata": {},
   "outputs": [
    {
     "name": "stdout",
     "output_type": "stream",
     "text": [
      "The connection to the database is established successfully.\n"
     ]
    }
   ],
   "source": [
    "# Define the SQL query to fetch data for Febrary 2024\n",
    "query =\"select * from MONTHLY_TRIPS.tripdata_202402;\"\n",
    "\n",
    "# get the data for Febrary 2024\n",
    "df_202402= analyzer.fetch_data(query)"
   ]
  },
  {
   "cell_type": "code",
   "execution_count": 12,
   "id": "a1a14b37",
   "metadata": {},
   "outputs": [
    {
     "name": "stdout",
     "output_type": "stream",
     "text": [
      "Null counts per column (descending order):\n",
      "end_station_name      25151\n",
      "end_station_id        25151\n",
      "start_station_id      23418\n",
      "start_station_name    23418\n",
      "end_lat                 318\n",
      "end_lng                 318\n",
      "started_at                0\n",
      "rideable_type             0\n",
      "ride_id                   0\n",
      "ended_at                  0\n",
      "start_lat                 0\n",
      "start_lng                 0\n",
      "member_casual             0\n",
      "dtype: int64\n",
      "\n",
      "Null percentage per column (descending order):\n",
      "end_station_name      11.27\n",
      "end_station_id        11.27\n",
      "start_station_id      10.49\n",
      "start_station_name    10.49\n",
      "end_lat                0.14\n",
      "end_lng                0.14\n",
      "started_at             0.00\n",
      "rideable_type          0.00\n",
      "ride_id                0.00\n",
      "ended_at               0.00\n",
      "start_lat              0.00\n",
      "start_lng              0.00\n",
      "member_casual          0.00\n",
      "dtype: float64\n",
      "\n",
      "Global null value analysis:\n",
      "- Total cells: 2,901,132\n",
      "- Total null values: 97,774\n",
      "- Global null percentage: 3.37%\n"
     ]
    }
   ],
   "source": [
    "# Analyze null values in the DataFrame 202402\n",
    "analyzer.analyze_null_values(df_202402)"
   ]
  },
  {
   "cell_type": "markdown",
   "id": "6e775a44",
   "metadata": {},
   "source": [
    "---"
   ]
  },
  {
   "cell_type": "markdown",
   "id": "206b7a91",
   "metadata": {},
   "source": [
    "<h3 style=\"color: steelblue; text-align: center;\">\n",
    "    Trips Data for March 2024\n",
    "</h3>"
   ]
  },
  {
   "cell_type": "code",
   "execution_count": 6,
   "id": "dea08ec8",
   "metadata": {},
   "outputs": [
    {
     "name": "stdout",
     "output_type": "stream",
     "text": [
      "The connection to the database is established successfully.\n"
     ]
    }
   ],
   "source": [
    "# Define the SQL query to fetch data for March 2024\n",
    "query =\"select * from MONTHLY_TRIPS.tripdata_202403;\"\n",
    "\n",
    "# get the data for March 2024\n",
    "df_202403= analyzer.fetch_data(query)"
   ]
  },
  {
   "cell_type": "code",
   "execution_count": 19,
   "id": "ca1a29bf",
   "metadata": {},
   "outputs": [
    {
     "name": "stdout",
     "output_type": "stream",
     "text": [
      "Null counts per column (descending order):\n",
      "end_station_name      47140\n",
      "end_station_id        47140\n",
      "start_station_id      44255\n",
      "start_station_name    44255\n",
      "end_lat                 396\n",
      "end_lng                 396\n",
      "started_at                0\n",
      "rideable_type             0\n",
      "ride_id                   0\n",
      "ended_at                  0\n",
      "start_lat                 0\n",
      "start_lng                 0\n",
      "member_casual             0\n",
      "dtype: int64\n",
      "\n",
      "Null percentage per column (descending order):\n",
      "end_station_name      15.63\n",
      "end_station_id        15.63\n",
      "start_station_id      14.67\n",
      "start_station_name    14.67\n",
      "end_lat                0.13\n",
      "end_lng                0.13\n",
      "started_at             0.00\n",
      "rideable_type          0.00\n",
      "ride_id                0.00\n",
      "ended_at               0.00\n",
      "start_lat              0.00\n",
      "start_lng              0.00\n",
      "member_casual          0.00\n",
      "dtype: float64\n",
      "\n",
      "Global null value analysis:\n",
      "- Total cells: 3,921,931\n",
      "- Total null values: 183,582\n",
      "- Global null percentage: 4.68%\n"
     ]
    }
   ],
   "source": [
    "# Analyze null values in the DataFrame 202403\n",
    "analyzer.analyze_null_values(df_202403)"
   ]
  },
  {
   "cell_type": "markdown",
   "id": "0572f6db",
   "metadata": {},
   "source": [
    "--- "
   ]
  },
  {
   "cell_type": "markdown",
   "id": "d869990c",
   "metadata": {},
   "source": [
    "<h3 style=\"color: steelblue; text-align: center;\">\n",
    "    Trips Data for April 2024\n",
    "</h3>"
   ]
  },
  {
   "cell_type": "code",
   "execution_count": 7,
   "id": "dba0bb8d",
   "metadata": {},
   "outputs": [
    {
     "name": "stdout",
     "output_type": "stream",
     "text": [
      "The connection to the database is established successfully.\n"
     ]
    }
   ],
   "source": [
    "# Define the SQL query to fetch data for April 2024\n",
    "query =\"select * from MONTHLY_TRIPS.tripdata_202404;\"\n",
    "\n",
    "# get the data for April 2024\n",
    "df_202404= analyzer.fetch_data(query)"
   ]
  },
  {
   "cell_type": "code",
   "execution_count": 24,
   "id": "ddfcf577",
   "metadata": {},
   "outputs": [
    {
     "name": "stdout",
     "output_type": "stream",
     "text": [
      "Null counts per column (descending order):\n",
      "end_station_name      78519\n",
      "end_station_id        78519\n",
      "start_station_id      74793\n",
      "start_station_name    74793\n",
      "end_lat                 479\n",
      "end_lng                 479\n",
      "started_at                0\n",
      "rideable_type             0\n",
      "ride_id                   0\n",
      "ended_at                  0\n",
      "start_lat                 0\n",
      "start_lng                 0\n",
      "member_casual             0\n",
      "dtype: int64\n",
      "\n",
      "Null percentage per column (descending order):\n",
      "end_station_name      18.92\n",
      "end_station_id        18.92\n",
      "start_station_id      18.02\n",
      "start_station_name    18.02\n",
      "end_lat                0.12\n",
      "end_lng                0.12\n",
      "started_at             0.00\n",
      "rideable_type          0.00\n",
      "ride_id                0.00\n",
      "ended_at               0.00\n",
      "start_lat              0.00\n",
      "start_lng              0.00\n",
      "member_casual          0.00\n",
      "dtype: float64\n",
      "\n",
      "Global null value analysis:\n",
      "- Total cells: 5,395,325\n",
      "- Total null values: 307,582\n",
      "- Global null percentage: 5.70%\n"
     ]
    }
   ],
   "source": [
    "# Analyze null values in the DataFrame 202404\n",
    "analyzer.analyze_null_values(df_202404)"
   ]
  },
  {
   "cell_type": "markdown",
   "id": "31cb2a19",
   "metadata": {},
   "source": [
    "--- "
   ]
  },
  {
   "cell_type": "markdown",
   "id": "60611d6d",
   "metadata": {},
   "source": [
    "<h3 style=\"color: steelblue; text-align: center;\">\n",
    "    Trips Data for May 2024\n",
    "</h3>"
   ]
  },
  {
   "cell_type": "code",
   "execution_count": 8,
   "id": "0ec477c6",
   "metadata": {},
   "outputs": [
    {
     "name": "stdout",
     "output_type": "stream",
     "text": [
      "The connection to the database is established successfully.\n"
     ]
    }
   ],
   "source": [
    "# Define the SQL query to fetch data for May 2024\n",
    "query =\"select * from MONTHLY_TRIPS.tripdata_202405;\"\n",
    "\n",
    "# get the data for May 2024\n",
    "df_202405= analyzer.fetch_data(query)"
   ]
  },
  {
   "cell_type": "code",
   "execution_count": 7,
   "id": "82fc6ebf",
   "metadata": {},
   "outputs": [
    {
     "name": "stdout",
     "output_type": "stream",
     "text": [
      "Null counts per column (descending order):\n",
      "end_station_name      112731\n",
      "end_station_id        112731\n",
      "start_station_id      109048\n",
      "start_station_name    109048\n",
      "end_lat                  784\n",
      "end_lng                  784\n",
      "started_at                 0\n",
      "rideable_type              0\n",
      "ride_id                    0\n",
      "ended_at                   0\n",
      "start_lat                  0\n",
      "start_lng                  0\n",
      "member_casual              0\n",
      "dtype: int64\n",
      "\n",
      "Null percentage per column (descending order):\n",
      "end_station_name      18.50\n",
      "end_station_id        18.50\n",
      "start_station_id      17.89\n",
      "start_station_name    17.89\n",
      "end_lat                0.13\n",
      "end_lng                0.13\n",
      "started_at             0.00\n",
      "rideable_type          0.00\n",
      "ride_id                0.00\n",
      "ended_at               0.00\n",
      "start_lat              0.00\n",
      "start_lng              0.00\n",
      "member_casual          0.00\n",
      "dtype: float64\n",
      "\n",
      "Global null value analysis:\n",
      "- Total cells: 7,923,409\n",
      "- Total null values: 445,126\n",
      "- Global null percentage: 5.62%\n"
     ]
    }
   ],
   "source": [
    "# Analyze null values in the DataFrame 202402\n",
    "analyzer.analyze_null_values(df_202405)"
   ]
  },
  {
   "cell_type": "markdown",
   "id": "945d4699",
   "metadata": {},
   "source": [
    "--- "
   ]
  },
  {
   "cell_type": "markdown",
   "id": "9b7b0c12",
   "metadata": {},
   "source": [
    "<h3 style=\"color: steelblue; text-align: center;\">\n",
    "    Trips Data for June 2024\n",
    "</h3>"
   ]
  },
  {
   "cell_type": "code",
   "execution_count": 9,
   "id": "4a08122d",
   "metadata": {},
   "outputs": [
    {
     "name": "stdout",
     "output_type": "stream",
     "text": [
      "The connection to the database is established successfully.\n"
     ]
    }
   ],
   "source": [
    "# Define the SQL query to fetch data for June 2024\n",
    "query =\"select * from MONTHLY_TRIPS.tripdata_202406;\"\n",
    "\n",
    "# get the data for June 2024\n",
    "df_202406= analyzer.fetch_data(query)"
   ]
  },
  {
   "cell_type": "code",
   "execution_count": 9,
   "id": "366430a9",
   "metadata": {},
   "outputs": [
    {
     "name": "stdout",
     "output_type": "stream",
     "text": [
      "Null counts per column (descending order):\n",
      "end_station_name      148027\n",
      "end_station_id        148027\n",
      "start_station_id      144025\n",
      "start_station_name    144025\n",
      "end_lat                 1124\n",
      "end_lng                 1124\n",
      "started_at                 0\n",
      "rideable_type              0\n",
      "ride_id                    0\n",
      "ended_at                   0\n",
      "start_lat                  0\n",
      "start_lng                  0\n",
      "member_casual              0\n",
      "dtype: int64\n",
      "\n",
      "Null percentage per column (descending order):\n",
      "end_station_name      20.83\n",
      "end_station_id        20.83\n",
      "start_station_id      20.26\n",
      "start_station_name    20.26\n",
      "end_lat                0.16\n",
      "end_lng                0.16\n",
      "started_at             0.00\n",
      "rideable_type          0.00\n",
      "ride_id                0.00\n",
      "ended_at               0.00\n",
      "start_lat              0.00\n",
      "start_lng              0.00\n",
      "member_casual          0.00\n",
      "dtype: float64\n",
      "\n",
      "Global null value analysis:\n",
      "- Total cells: 9,239,373\n",
      "- Total null values: 586,352\n",
      "- Global null percentage: 6.35%\n"
     ]
    }
   ],
   "source": [
    "# Analyze null values in the DataFrame 202406\n",
    "analyzer.analyze_null_values(df_202406)"
   ]
  },
  {
   "cell_type": "markdown",
   "id": "3acd4b4e",
   "metadata": {},
   "source": [
    "--- "
   ]
  },
  {
   "cell_type": "markdown",
   "id": "0f0d129b",
   "metadata": {},
   "source": [
    "<h3 style=\"color: steelblue; text-align: center;\">\n",
    "    Trips Data for July 2024\n",
    "</h3>"
   ]
  },
  {
   "cell_type": "code",
   "execution_count": 10,
   "id": "0f75f051",
   "metadata": {},
   "outputs": [
    {
     "name": "stdout",
     "output_type": "stream",
     "text": [
      "The connection to the database is established successfully.\n"
     ]
    }
   ],
   "source": [
    "# Define the SQL query to fetch data for July 2024\n",
    "query =\"select * from MONTHLY_TRIPS.tripdata_202407;\"\n",
    "\n",
    "# get the data for July 2024\n",
    "df_202407= analyzer.fetch_data(query)"
   ]
  },
  {
   "cell_type": "code",
   "execution_count": 12,
   "id": "ebc75c68",
   "metadata": {},
   "outputs": [
    {
     "name": "stdout",
     "output_type": "stream",
     "text": [
      "Null counts per column (descending order):\n",
      "end_station_name      148027\n",
      "end_station_id        148027\n",
      "start_station_id      144025\n",
      "start_station_name    144025\n",
      "end_lat                 1124\n",
      "end_lng                 1124\n",
      "started_at                 0\n",
      "rideable_type              0\n",
      "ride_id                    0\n",
      "ended_at                   0\n",
      "start_lat                  0\n",
      "start_lng                  0\n",
      "member_casual              0\n",
      "dtype: int64\n",
      "\n",
      "Null percentage per column (descending order):\n",
      "end_station_name      20.83\n",
      "end_station_id        20.83\n",
      "start_station_id      20.26\n",
      "start_station_name    20.26\n",
      "end_lat                0.16\n",
      "end_lng                0.16\n",
      "started_at             0.00\n",
      "rideable_type          0.00\n",
      "ride_id                0.00\n",
      "ended_at               0.00\n",
      "start_lat              0.00\n",
      "start_lng              0.00\n",
      "member_casual          0.00\n",
      "dtype: float64\n",
      "\n",
      "Global null value analysis:\n",
      "- Total cells: 9,239,373\n",
      "- Total null values: 586,352\n",
      "- Global null percentage: 6.35%\n"
     ]
    }
   ],
   "source": [
    "# Analyze null values in the DataFrame 202407\n",
    "analyzer.analyze_null_values(df_202407)"
   ]
  },
  {
   "cell_type": "markdown",
   "id": "002635fb",
   "metadata": {},
   "source": [
    "--- "
   ]
  },
  {
   "cell_type": "markdown",
   "id": "28c00079",
   "metadata": {},
   "source": [
    "<h3 style=\"color: steelblue; text-align: center;\">\n",
    "    Trips Data for August 2024\n",
    "</h3>"
   ]
  },
  {
   "cell_type": "code",
   "execution_count": 11,
   "id": "6093920c",
   "metadata": {},
   "outputs": [
    {
     "name": "stdout",
     "output_type": "stream",
     "text": [
      "The connection to the database is established successfully.\n"
     ]
    }
   ],
   "source": [
    "# Define the SQL query to fetch data for August 2024\n",
    "query =\"select * from MONTHLY_TRIPS.tripdata_202408;\"\n",
    "\n",
    "# get the data for August 2024\n",
    "df_202408= analyzer.fetch_data(query)"
   ]
  },
  {
   "cell_type": "code",
   "execution_count": null,
   "id": "3824f512",
   "metadata": {},
   "outputs": [
    {
     "name": "stdout",
     "output_type": "stream",
     "text": [
      "Null counts per column (descending order):\n",
      "end_station_name      142225\n",
      "end_station_id        142225\n",
      "start_station_id      140591\n",
      "start_station_name    140591\n",
      "end_lat                 1027\n",
      "end_lng                 1027\n",
      "started_at                 0\n",
      "rideable_type              0\n",
      "ride_id                    0\n",
      "ended_at                   0\n",
      "start_lat                  0\n",
      "start_lng                  0\n",
      "member_casual              0\n",
      "dtype: int64\n",
      "\n",
      "Null percentage per column (descending order):\n",
      "end_station_name      18.82\n",
      "end_station_id        18.82\n",
      "start_station_id      18.61\n",
      "start_station_name    18.61\n",
      "end_lat                0.14\n",
      "end_lng                0.14\n",
      "started_at             0.00\n",
      "rideable_type          0.00\n",
      "ride_id                0.00\n",
      "ended_at               0.00\n",
      "start_lat              0.00\n",
      "start_lng              0.00\n",
      "member_casual          0.00\n",
      "dtype: float64\n",
      "\n",
      "Global null value analysis:\n",
      "- Total cells: 9,823,307\n",
      "- Total null values: 567,686\n",
      "- Global null percentage: 5.78%\n"
     ]
    }
   ],
   "source": [
    "# Analyze null values in the DataFrame 202408\n",
    "analyzer.analyze_null_values(df_202408)"
   ]
  },
  {
   "cell_type": "markdown",
   "id": "e567a53c",
   "metadata": {},
   "source": [
    "---"
   ]
  },
  {
   "cell_type": "markdown",
   "id": "d99f7911",
   "metadata": {},
   "source": [
    "\n",
    "<h3 style=\"color: steelblue; text-align: center;\">\n",
    "    Trips Data for September 2024\n",
    "</h3>"
   ]
  },
  {
   "cell_type": "code",
   "execution_count": 12,
   "id": "8446d912",
   "metadata": {},
   "outputs": [
    {
     "name": "stdout",
     "output_type": "stream",
     "text": [
      "The connection to the database is established successfully.\n"
     ]
    }
   ],
   "source": [
    "# Define the SQL query to fetch data for September 2024\n",
    "query =\"select * from MONTHLY_TRIPS.tripdata_202409;\"\n",
    "\n",
    "# get the data for September 2024\n",
    "df_202409= analyzer.fetch_data(query)"
   ]
  },
  {
   "cell_type": "code",
   "execution_count": 18,
   "id": "04c1ac86",
   "metadata": {},
   "outputs": [
    {
     "name": "stdout",
     "output_type": "stream",
     "text": [
      "Null counts per column (descending order):\n",
      "end_station_name      192950\n",
      "end_station_id        192950\n",
      "start_station_id      189150\n",
      "start_station_name    189150\n",
      "end_lat                  753\n",
      "end_lng                  753\n",
      "started_at                 0\n",
      "rideable_type              0\n",
      "ride_id                    0\n",
      "ended_at                   0\n",
      "start_lat                  0\n",
      "start_lng                  0\n",
      "member_casual              0\n",
      "dtype: int64\n",
      "\n",
      "Null percentage per column (descending order):\n",
      "end_station_name      23.49\n",
      "end_station_id        23.49\n",
      "start_station_id      23.03\n",
      "start_station_name    23.03\n",
      "end_lat                0.09\n",
      "end_lng                0.09\n",
      "started_at             0.00\n",
      "rideable_type          0.00\n",
      "ride_id                0.00\n",
      "ended_at               0.00\n",
      "start_lat              0.00\n",
      "start_lng              0.00\n",
      "member_casual          0.00\n",
      "dtype: float64\n",
      "\n",
      "Global null value analysis:\n",
      "- Total cells: 10,676,588\n",
      "- Total null values: 765,706\n",
      "- Global null percentage: 7.17%\n"
     ]
    }
   ],
   "source": [
    "# Analyze null values in the DataFrame 202409\n",
    "analyzer.analyze_null_values(df_202409)"
   ]
  },
  {
   "cell_type": "markdown",
   "id": "4c1f1210",
   "metadata": {},
   "source": [
    "---"
   ]
  },
  {
   "cell_type": "markdown",
   "id": "4c5f33c2",
   "metadata": {},
   "source": [
    "<h3 style=\"color: steelblue; text-align: center;\">\n",
    "    Trips Data for October 2024\n",
    "</h3>\n"
   ]
  },
  {
   "cell_type": "code",
   "execution_count": 13,
   "id": "18643e4a",
   "metadata": {},
   "outputs": [
    {
     "name": "stdout",
     "output_type": "stream",
     "text": [
      "The connection to the database is established successfully.\n"
     ]
    }
   ],
   "source": [
    "# Define the SQL query to fetch data for Octuber 2024\n",
    "query =\"select * from MONTHLY_TRIPS.tripdata_202410;\"\n",
    "\n",
    "# get the data for Octuber 2024\n",
    "df_202410= analyzer.fetch_data(query)"
   ]
  },
  {
   "cell_type": "code",
   "execution_count": 20,
   "id": "1faa11b5",
   "metadata": {},
   "outputs": [
    {
     "name": "stdout",
     "output_type": "stream",
     "text": [
      "Null counts per column (descending order):\n",
      "end_station_name      109517\n",
      "end_station_id        109517\n",
      "start_station_id      107147\n",
      "start_station_name    107147\n",
      "end_lat                  568\n",
      "end_lng                  568\n",
      "started_at                 0\n",
      "rideable_type              0\n",
      "ride_id                    0\n",
      "ended_at                   0\n",
      "start_lat                  0\n",
      "start_lng                  0\n",
      "member_casual              0\n",
      "dtype: int64\n",
      "\n",
      "Null percentage per column (descending order):\n",
      "end_station_name      17.77\n",
      "end_station_id        17.77\n",
      "start_station_id      17.39\n",
      "start_station_name    17.39\n",
      "end_lat                0.09\n",
      "end_lng                0.09\n",
      "started_at             0.00\n",
      "rideable_type          0.00\n",
      "ride_id                0.00\n",
      "ended_at               0.00\n",
      "start_lat              0.00\n",
      "start_lng              0.00\n",
      "member_casual          0.00\n",
      "dtype: float64\n",
      "\n",
      "Global null value analysis:\n",
      "- Total cells: 8,011,653\n",
      "- Total null values: 434,464\n",
      "- Global null percentage: 5.42%\n"
     ]
    }
   ],
   "source": [
    "# Analyze null values in the DataFrame 202410\n",
    "analyzer.analyze_null_values(df_202410)"
   ]
  },
  {
   "cell_type": "markdown",
   "id": "4ca95ee3",
   "metadata": {},
   "source": [
    "--- "
   ]
  },
  {
   "cell_type": "markdown",
   "id": "8fbe3065",
   "metadata": {},
   "source": [
    "<h3 style=\"color: steelblue; text-align: center;\">\n",
    "    Trips Data for November 2024\n",
    "</h3>"
   ]
  },
  {
   "cell_type": "code",
   "execution_count": 14,
   "id": "402fdc71",
   "metadata": {},
   "outputs": [
    {
     "name": "stdout",
     "output_type": "stream",
     "text": [
      "The connection to the database is established successfully.\n"
     ]
    }
   ],
   "source": [
    "# Define the SQL query to fetch data for November 2024\n",
    "query =\"select * from MONTHLY_TRIPS.tripdata_202411;\"\n",
    "\n",
    "# get the data for November 2024\n",
    "df_202411= analyzer.fetch_data(query)"
   ]
  },
  {
   "cell_type": "code",
   "execution_count": 22,
   "id": "4a382715",
   "metadata": {},
   "outputs": [
    {
     "name": "stdout",
     "output_type": "stream",
     "text": [
      "Null counts per column (descending order):\n",
      "end_station_name      57644\n",
      "end_station_id        57644\n",
      "start_station_id      56203\n",
      "start_station_name    56203\n",
      "end_lat                 273\n",
      "end_lng                 273\n",
      "started_at                0\n",
      "rideable_type             0\n",
      "ride_id                   0\n",
      "ended_at                  0\n",
      "start_lat                 0\n",
      "start_lng                 0\n",
      "member_casual             0\n",
      "dtype: int64\n",
      "\n",
      "Null percentage per column (descending order):\n",
      "end_station_name      17.20\n",
      "end_station_id        17.20\n",
      "start_station_id      16.77\n",
      "start_station_name    16.77\n",
      "end_lat                0.08\n",
      "end_lng                0.08\n",
      "started_at             0.00\n",
      "rideable_type          0.00\n",
      "ride_id                0.00\n",
      "ended_at               0.00\n",
      "start_lat              0.00\n",
      "start_lng              0.00\n",
      "member_casual          0.00\n",
      "dtype: float64\n",
      "\n",
      "Global null value analysis:\n",
      "- Total cells: 4,355,975\n",
      "- Total null values: 228,240\n",
      "- Global null percentage: 5.24%\n"
     ]
    }
   ],
   "source": [
    "# Analyze null values in the DataFrame 202411\n",
    "analyzer.analyze_null_values(df_202411)"
   ]
  },
  {
   "cell_type": "markdown",
   "id": "85af8a32",
   "metadata": {},
   "source": [
    "---"
   ]
  },
  {
   "cell_type": "markdown",
   "id": "e3c6fc7c",
   "metadata": {},
   "source": [
    "\n",
    "<h3 style=\"color: steelblue; text-align: center;\">\n",
    "    Trips Data for December 2024\n",
    "</h3>"
   ]
  },
  {
   "cell_type": "code",
   "execution_count": 15,
   "id": "559ef423",
   "metadata": {},
   "outputs": [
    {
     "name": "stdout",
     "output_type": "stream",
     "text": [
      "The connection to the database is established successfully.\n"
     ]
    }
   ],
   "source": [
    "# Define the SQL query to fetch data for December  2024\n",
    "query =\"select * from MONTHLY_TRIPS.tripdata_202412;\"\n",
    "\n",
    "# get the data for December 2024\n",
    "df_202412 = analyzer.fetch_data(query)"
   ]
  },
  {
   "cell_type": "code",
   "execution_count": 24,
   "id": "2a0ad5b1",
   "metadata": {},
   "outputs": [
    {
     "name": "stdout",
     "output_type": "stream",
     "text": [
      "Null counts per column (descending order):\n",
      "end_station_name      30776\n",
      "end_station_id        30776\n",
      "start_station_id      29191\n",
      "start_station_name    29191\n",
      "end_lat                 131\n",
      "end_lng                 131\n",
      "started_at                0\n",
      "rideable_type             0\n",
      "ride_id                   0\n",
      "ended_at                  0\n",
      "start_lat                 0\n",
      "start_lng                 0\n",
      "member_casual             0\n",
      "dtype: int64\n",
      "\n",
      "Null percentage per column (descending order):\n",
      "end_station_name      17.25\n",
      "end_station_id        17.25\n",
      "start_station_id      16.37\n",
      "start_station_name    16.37\n",
      "end_lat                0.07\n",
      "end_lng                0.07\n",
      "started_at             0.00\n",
      "rideable_type          0.00\n",
      "ride_id                0.00\n",
      "ended_at               0.00\n",
      "start_lat              0.00\n",
      "start_lng              0.00\n",
      "member_casual          0.00\n",
      "dtype: float64\n",
      "\n",
      "Global null value analysis:\n",
      "- Total cells: 2,318,836\n",
      "- Total null values: 120,196\n",
      "- Global null percentage: 5.18%\n"
     ]
    }
   ],
   "source": [
    "# Analyze null values in the DataFrame 202412\n",
    "analyzer.analyze_null_values(df_202412)"
   ]
  },
  {
   "cell_type": "markdown",
   "id": "c559dc10",
   "metadata": {},
   "source": [
    "--- "
   ]
  },
  {
   "cell_type": "code",
   "execution_count": null,
   "id": "aedcf510",
   "metadata": {},
   "outputs": [
    {
     "name": "stderr",
     "output_type": "stream",
     "text": [
      "C:\\Users\\carlo\\AppData\\Local\\Temp\\ipykernel_2948\\3095014758.py:12: FutureWarning: \n",
      "\n",
      "Passing `palette` without assigning `hue` is deprecated and will be removed in v0.14.0. Assign the `x` variable to `hue` and set `legend=False` for the same effect.\n",
      "\n",
      "  sns.barplot(x=null_counts.index, y=null_counts.values, palette='viridis')\n"
     ]
    },
    {
     "data": {
      "image/png": "[encoded data removed]",
      "text/plain": [
       "<Figure size 1000x600 with 1 Axes>"
      ]
     },
     "metadata": {},
     "output_type": "display_data"
    }
   ],
   "source": [
    "# Calculate the null values in the DataFrame 202410\n",
    "null_counts = df_202410.isnull().sum()\n",
    "\n",
    "# Filter out columns with no null values\n",
    "null_counts = null_counts[null_counts > 0]\n",
    "\n",
    "# Create a histogram of null values\n",
    "plt.figure(figsize=(10, 6))\n",
    "sns.barplot(x=null_counts.index, y=null_counts.values, palette='viridis')\n",
    "plt.title('Distribution of Null Values by Column')\n",
    "plt.xlabel('Columns')\n",
    "plt.ylabel('Count of Null Values')\n",
    "plt.xticks(rotation=45)\n",
    "plt.grid(axis='y', linestyle='--', alpha=0.7)\n",
    "plt.show()"
   ]
  },
  {
   "cell_type": "markdown",
   "id": "08d7f163",
   "metadata": {},
   "source": [
    "---"
   ]
  },
  {
   "cell_type": "markdown",
   "id": "e1398cb7",
   "metadata": {},
   "source": [
    "<h3 style=\"color: steelblue; text-align: center;\">Data Processing</h3>"
   ]
  },
  {
   "cell_type": "code",
   "execution_count": null,
   "id": "1a3ae87e",
   "metadata": {},
   "outputs": [],
   "source": [
    "for month in range(1, 13):\n",
    "    variable_name = f\"df_2024{mes:02}\"\n",
    "    df = globals().get(variable_name )\n",
    "\n",
    "    if df is not None:\n",
    "        globals()[variable_name] = analyzer.clean_data(df)\n"
   ]
  },
  {
   "cell_type": "code",
   "execution_count": 17,
   "id": "5cf1f271",
   "metadata": {},
   "outputs": [],
   "source": [
    "for i in range(1, 13):\n",
    "    df_name = f\"df_2024{i:02}\"\n",
    "    df = globals().get(df_name)\n",
    "    \n",
    "    if df is not None:\n",
    "        globals()[df_name] = analyzer.add_time_columns(df)"
   ]
  },
  {
   "cell_type": "code",
   "execution_count": null,
   "id": "a039e55f",
   "metadata": {},
   "outputs": [],
   "source": [
    "# Define the columns to keep in the final DataFrame\n",
    "columns_to_keep = [\n",
    "    'ride_id', \n",
    "    'rideable_type', \n",
    "    'start_station_name', \n",
    "    'start_station_id', \n",
    "    'end_station_name', \n",
    "    'end_station_id', \n",
    "    'start_lat', \n",
    "    'start_lng', \n",
    "    'end_lat', \n",
    "    'end_lng', \n",
    "    'member_casual',\n",
    "    'day_of_week',\n",
    "    'month', \n",
    "    'year',\n",
    "    'trip_duration'\n",
    "]\n",
    "\n",
    "# Store DataFrame in CSV files for each month\n",
    "for mes in range(1, 13):\n",
    "    df_name = f'df_2024{mes:02}'\n",
    "    df = globals()[df_name]  #get the DataFrame from global environment\n",
    "    df[columns_to_keep].to_csv(f'df_2024{mes:02}.csv', index=False)\n"
   ]
  }
 ],
 "metadata": {
  "kernelspec": {
   "display_name": "venv",
   "language": "python",
   "name": "python3"
  },
  "language_info": {
   "codemirror_mode": {
    "name": "ipython",
    "version": 3
   },
   "file_extension": ".py",
   "mimetype": "text/x-python",
   "name": "python",
   "nbconvert_exporter": "python",
   "pygments_lexer": "ipython3",
   "version": "3.11.4"
  }
 },
 "nbformat": 4,
 "nbformat_minor": 5
}
